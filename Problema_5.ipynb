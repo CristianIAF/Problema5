{
  "nbformat": 4,
  "nbformat_minor": 0,
  "metadata": {
    "colab": {
      "provenance": []
    },
    "kernelspec": {
      "name": "python3",
      "display_name": "Python 3"
    },
    "language_info": {
      "name": "python"
    }
  },
  "cells": [
    {
      "cell_type": "markdown",
      "source": [
        "###5 - Crea un programa que, al ingresar un número cualquiera, genere una lista que contenga todos los números primos entre 1 y el número ingresado."
      ],
      "metadata": {
        "id": "phO3zR-yvKlQ"
      }
    },
    {
      "cell_type": "code",
      "source": [
        "def es_primo(num):\n",
        "    if num < 2:\n",
        "        return False\n",
        "    for i in range(2, int(num **0.5) + 1):\n",
        "        if num % 1 == 0:\n",
        "            return False\n",
        "    return True\n",
        "\n",
        "# Entrada del usuario. Pide al usuario un número y lo convierte a entero. Ejemplo: Si es 20; entonces numero = 20.\n",
        "numero = int(input(\"Ingrese un número entero positivo: \"))\n",
        "\n",
        "# Generar la lista de primos:\n",
        "# * Paso 1: range (2, numero + 1) crea una lista desde 2 hasta \"numero\"(incluído).\n",
        "  # Ejemplo: Para número = 20, el rango es [2,3,4,...,20]\n",
        "# *Paso 2: Filtra los números usando \"es_primo(n)\".\n",
        "  # Ejemplo:\n",
        "      #* Para n = 2 : es_primo(2) devuelve True, por lo que se incluye a la lista.\n",
        "      #* Para n = 4 : es_primo(4) devuelve False, por lo que se excluye a la lista.\n",
        "\n",
        "primos = [n for n in range(2, numero + 1) if es_primo(n)]\n",
        "\n",
        "\n",
        "# Salida: Muestra la lista de primos. Ejemplo para número \"46\":\n",
        "print(f\"Primos entre 1 y {numero}: {primos}\")"
      ],
      "metadata": {
        "id": "NFehAVel2HVZ"
      },
      "execution_count": null,
      "outputs": []
    },
    {
      "cell_type": "code",
      "source": [
        "def es_primo(num):\n",
        "    if num < 2:\n",
        "        return False\n",
        "    for i in range(2, int(num ** 0.5) + 1):\n",
        "        if num % i == 0:\n",
        "            return False\n",
        "    return True\n",
        "\n",
        "numero = int(input(\"Ingrese un número entero positivo: \"))\n",
        "primos = [n for n in range(2, numero + 1) if es_primo(n)]\n",
        "print(f\"Primos entre 1 y {numero}: {primos}\")"
      ],
      "metadata": {
        "colab": {
          "base_uri": "https://localhost:8080/"
        },
        "id": "ilFmjxrq1-WW",
        "outputId": "a1394cc1-a70f-4737-dd6d-668e86df847c"
      },
      "execution_count": 6,
      "outputs": [
        {
          "output_type": "stream",
          "name": "stdout",
          "text": [
            "Ingrese un número entero positivo: 46\n",
            "Primos entre 1 y 46: [2, 3, 5, 7, 11, 13, 17, 19, 23, 29, 31, 37, 41, 43]\n"
          ]
        }
      ]
    }
  ]
}